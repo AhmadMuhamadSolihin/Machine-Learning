{
  "cells": [
    {
      "cell_type": "markdown",
      "metadata": {
        "id": "view-in-github",
        "colab_type": "text"
      },
      "source": [
        "<a href=\"https://colab.research.google.com/github/AhmadMuhamadSolihin/Machine-Learning/blob/main/Hology_CNN.ipynb\" target=\"_parent\"><img src=\"https://colab.research.google.com/assets/colab-badge.svg\" alt=\"Open In Colab\"/></a>"
      ]
    },
    {
      "cell_type": "markdown",
      "metadata": {
        "id": "arqgzVVtNR-d"
      },
      "source": [
        "# INSTALL LIBRARY"
      ]
    },
    {
      "cell_type": "code",
      "execution_count": null,
      "metadata": {
        "colab": {
          "base_uri": "https://localhost:8080/"
        },
        "id": "xo_9ca72Md9A",
        "outputId": "982be711-f90b-4f09-bc9e-f14ba1cc62f9"
      },
      "outputs": [
        {
          "output_type": "stream",
          "name": "stdout",
          "text": [
            "Requirement already satisfied: gdown in /usr/local/lib/python3.10/dist-packages (5.2.0)\n",
            "Requirement already satisfied: beautifulsoup4 in /usr/local/lib/python3.10/dist-packages (from gdown) (4.12.3)\n",
            "Requirement already satisfied: filelock in /usr/local/lib/python3.10/dist-packages (from gdown) (3.16.1)\n",
            "Requirement already satisfied: requests[socks] in /usr/local/lib/python3.10/dist-packages (from gdown) (2.32.3)\n",
            "Requirement already satisfied: tqdm in /usr/local/lib/python3.10/dist-packages (from gdown) (4.66.5)\n",
            "Requirement already satisfied: soupsieve>1.2 in /usr/local/lib/python3.10/dist-packages (from beautifulsoup4->gdown) (2.6)\n",
            "Requirement already satisfied: charset-normalizer<4,>=2 in /usr/local/lib/python3.10/dist-packages (from requests[socks]->gdown) (3.4.0)\n",
            "Requirement already satisfied: idna<4,>=2.5 in /usr/local/lib/python3.10/dist-packages (from requests[socks]->gdown) (3.10)\n",
            "Requirement already satisfied: urllib3<3,>=1.21.1 in /usr/local/lib/python3.10/dist-packages (from requests[socks]->gdown) (2.2.3)\n",
            "Requirement already satisfied: certifi>=2017.4.17 in /usr/local/lib/python3.10/dist-packages (from requests[socks]->gdown) (2024.8.30)\n",
            "Requirement already satisfied: PySocks!=1.5.7,>=1.5.6 in /usr/local/lib/python3.10/dist-packages (from requests[socks]->gdown) (1.7.1)\n"
          ]
        }
      ],
      "source": [
        "!pip install gdown"
      ]
    },
    {
      "cell_type": "markdown",
      "metadata": {
        "id": "ac2vil80Ndb5"
      },
      "source": [
        "# LIBRARY UMUM"
      ]
    },
    {
      "cell_type": "code",
      "execution_count": null,
      "metadata": {
        "id": "ASwiilWvTwzT"
      },
      "outputs": [],
      "source": [
        "import os\n",
        "import matplotlib.pyplot as plt\n",
        "import numpy as np\n",
        "import pandas as pd\n",
        "import seaborn as sns\n",
        "import tensorflow as tf\n",
        "import gdown"
      ]
    },
    {
      "cell_type": "markdown",
      "metadata": {
        "id": "rRAecSBiNjXN"
      },
      "source": [
        "# DATA"
      ]
    },
    {
      "cell_type": "code",
      "execution_count": null,
      "metadata": {
        "colab": {
          "base_uri": "https://localhost:8080/"
        },
        "id": "Ti3sz9R3Ni-i",
        "outputId": "504f3fc8-2eb5-4bec-cf24-4e0d1c7b604f"
      },
      "outputs": [
        {
          "output_type": "stream",
          "name": "stderr",
          "text": [
            "Downloading...\n",
            "From: https://drive.google.com/uc?id=1TbHce2SU-W_Fr2hMjN9E_WhC_1R9M182&export=download\n",
            "To: /content/data.zip\n",
            "100%|██████████| 10.2M/10.2M [00:00<00:00, 39.9MB/s]\n"
          ]
        }
      ],
      "source": [
        "folder_id = '1TbHce2SU-W_Fr2hMjN9E_WhC_1R9M182'\n",
        "url = f\"https://drive.google.com/uc?id={folder_id}&export=download\"\n",
        "\n",
        "output = 'data.zip'\n",
        "\n",
        "gdown.download(url, output, quiet=False)\n",
        "\n",
        "import zipfile\n",
        "with zipfile.ZipFile(output, 'r') as zip_ref:\n",
        "    zip_ref.extractall()"
      ]
    },
    {
      "cell_type": "markdown",
      "metadata": {
        "id": "2zeOqnx5z02Y"
      },
      "source": [
        "## Dataframe"
      ]
    },
    {
      "cell_type": "code",
      "execution_count": null,
      "metadata": {
        "colab": {
          "base_uri": "https://localhost:8080/",
          "height": 206
        },
        "id": "SvgR-3Wtz0Lw",
        "outputId": "5f4b2cbe-96fc-4fa7-a41d-3ee038fd0661"
      },
      "outputs": [
        {
          "output_type": "execute_result",
          "data": {
            "text/plain": [
              "   id  jenis  warna\n",
              "0   1      1      1\n",
              "1   2      0      2\n",
              "2   3      1      3\n",
              "3   4      1      1\n",
              "4   5      0      4"
            ],
            "text/html": [
              "\n",
              "  <div id=\"df-0e55881f-0882-4704-8c3f-fada82c528db\" class=\"colab-df-container\">\n",
              "    <div>\n",
              "<style scoped>\n",
              "    .dataframe tbody tr th:only-of-type {\n",
              "        vertical-align: middle;\n",
              "    }\n",
              "\n",
              "    .dataframe tbody tr th {\n",
              "        vertical-align: top;\n",
              "    }\n",
              "\n",
              "    .dataframe thead th {\n",
              "        text-align: right;\n",
              "    }\n",
              "</style>\n",
              "<table border=\"1\" class=\"dataframe\">\n",
              "  <thead>\n",
              "    <tr style=\"text-align: right;\">\n",
              "      <th></th>\n",
              "      <th>id</th>\n",
              "      <th>jenis</th>\n",
              "      <th>warna</th>\n",
              "    </tr>\n",
              "  </thead>\n",
              "  <tbody>\n",
              "    <tr>\n",
              "      <th>0</th>\n",
              "      <td>1</td>\n",
              "      <td>1</td>\n",
              "      <td>1</td>\n",
              "    </tr>\n",
              "    <tr>\n",
              "      <th>1</th>\n",
              "      <td>2</td>\n",
              "      <td>0</td>\n",
              "      <td>2</td>\n",
              "    </tr>\n",
              "    <tr>\n",
              "      <th>2</th>\n",
              "      <td>3</td>\n",
              "      <td>1</td>\n",
              "      <td>3</td>\n",
              "    </tr>\n",
              "    <tr>\n",
              "      <th>3</th>\n",
              "      <td>4</td>\n",
              "      <td>1</td>\n",
              "      <td>1</td>\n",
              "    </tr>\n",
              "    <tr>\n",
              "      <th>4</th>\n",
              "      <td>5</td>\n",
              "      <td>0</td>\n",
              "      <td>4</td>\n",
              "    </tr>\n",
              "  </tbody>\n",
              "</table>\n",
              "</div>\n",
              "    <div class=\"colab-df-buttons\">\n",
              "\n",
              "  <div class=\"colab-df-container\">\n",
              "    <button class=\"colab-df-convert\" onclick=\"convertToInteractive('df-0e55881f-0882-4704-8c3f-fada82c528db')\"\n",
              "            title=\"Convert this dataframe to an interactive table.\"\n",
              "            style=\"display:none;\">\n",
              "\n",
              "  <svg xmlns=\"http://www.w3.org/2000/svg\" height=\"24px\" viewBox=\"0 -960 960 960\">\n",
              "    <path d=\"M120-120v-720h720v720H120Zm60-500h600v-160H180v160Zm220 220h160v-160H400v160Zm0 220h160v-160H400v160ZM180-400h160v-160H180v160Zm440 0h160v-160H620v160ZM180-180h160v-160H180v160Zm440 0h160v-160H620v160Z\"/>\n",
              "  </svg>\n",
              "    </button>\n",
              "\n",
              "  <style>\n",
              "    .colab-df-container {\n",
              "      display:flex;\n",
              "      gap: 12px;\n",
              "    }\n",
              "\n",
              "    .colab-df-convert {\n",
              "      background-color: #E8F0FE;\n",
              "      border: none;\n",
              "      border-radius: 50%;\n",
              "      cursor: pointer;\n",
              "      display: none;\n",
              "      fill: #1967D2;\n",
              "      height: 32px;\n",
              "      padding: 0 0 0 0;\n",
              "      width: 32px;\n",
              "    }\n",
              "\n",
              "    .colab-df-convert:hover {\n",
              "      background-color: #E2EBFA;\n",
              "      box-shadow: 0px 1px 2px rgba(60, 64, 67, 0.3), 0px 1px 3px 1px rgba(60, 64, 67, 0.15);\n",
              "      fill: #174EA6;\n",
              "    }\n",
              "\n",
              "    .colab-df-buttons div {\n",
              "      margin-bottom: 4px;\n",
              "    }\n",
              "\n",
              "    [theme=dark] .colab-df-convert {\n",
              "      background-color: #3B4455;\n",
              "      fill: #D2E3FC;\n",
              "    }\n",
              "\n",
              "    [theme=dark] .colab-df-convert:hover {\n",
              "      background-color: #434B5C;\n",
              "      box-shadow: 0px 1px 3px 1px rgba(0, 0, 0, 0.15);\n",
              "      filter: drop-shadow(0px 1px 2px rgba(0, 0, 0, 0.3));\n",
              "      fill: #FFFFFF;\n",
              "    }\n",
              "  </style>\n",
              "\n",
              "    <script>\n",
              "      const buttonEl =\n",
              "        document.querySelector('#df-0e55881f-0882-4704-8c3f-fada82c528db button.colab-df-convert');\n",
              "      buttonEl.style.display =\n",
              "        google.colab.kernel.accessAllowed ? 'block' : 'none';\n",
              "\n",
              "      async function convertToInteractive(key) {\n",
              "        const element = document.querySelector('#df-0e55881f-0882-4704-8c3f-fada82c528db');\n",
              "        const dataTable =\n",
              "          await google.colab.kernel.invokeFunction('convertToInteractive',\n",
              "                                                    [key], {});\n",
              "        if (!dataTable) return;\n",
              "\n",
              "        const docLinkHtml = 'Like what you see? Visit the ' +\n",
              "          '<a target=\"_blank\" href=https://colab.research.google.com/notebooks/data_table.ipynb>data table notebook</a>'\n",
              "          + ' to learn more about interactive tables.';\n",
              "        element.innerHTML = '';\n",
              "        dataTable['output_type'] = 'display_data';\n",
              "        await google.colab.output.renderOutput(dataTable, element);\n",
              "        const docLink = document.createElement('div');\n",
              "        docLink.innerHTML = docLinkHtml;\n",
              "        element.appendChild(docLink);\n",
              "      }\n",
              "    </script>\n",
              "  </div>\n",
              "\n",
              "\n",
              "<div id=\"df-ff7a3b66-0714-47e5-a07e-09898c8cce38\">\n",
              "  <button class=\"colab-df-quickchart\" onclick=\"quickchart('df-ff7a3b66-0714-47e5-a07e-09898c8cce38')\"\n",
              "            title=\"Suggest charts\"\n",
              "            style=\"display:none;\">\n",
              "\n",
              "<svg xmlns=\"http://www.w3.org/2000/svg\" height=\"24px\"viewBox=\"0 0 24 24\"\n",
              "     width=\"24px\">\n",
              "    <g>\n",
              "        <path d=\"M19 3H5c-1.1 0-2 .9-2 2v14c0 1.1.9 2 2 2h14c1.1 0 2-.9 2-2V5c0-1.1-.9-2-2-2zM9 17H7v-7h2v7zm4 0h-2V7h2v10zm4 0h-2v-4h2v4z\"/>\n",
              "    </g>\n",
              "</svg>\n",
              "  </button>\n",
              "\n",
              "<style>\n",
              "  .colab-df-quickchart {\n",
              "      --bg-color: #E8F0FE;\n",
              "      --fill-color: #1967D2;\n",
              "      --hover-bg-color: #E2EBFA;\n",
              "      --hover-fill-color: #174EA6;\n",
              "      --disabled-fill-color: #AAA;\n",
              "      --disabled-bg-color: #DDD;\n",
              "  }\n",
              "\n",
              "  [theme=dark] .colab-df-quickchart {\n",
              "      --bg-color: #3B4455;\n",
              "      --fill-color: #D2E3FC;\n",
              "      --hover-bg-color: #434B5C;\n",
              "      --hover-fill-color: #FFFFFF;\n",
              "      --disabled-bg-color: #3B4455;\n",
              "      --disabled-fill-color: #666;\n",
              "  }\n",
              "\n",
              "  .colab-df-quickchart {\n",
              "    background-color: var(--bg-color);\n",
              "    border: none;\n",
              "    border-radius: 50%;\n",
              "    cursor: pointer;\n",
              "    display: none;\n",
              "    fill: var(--fill-color);\n",
              "    height: 32px;\n",
              "    padding: 0;\n",
              "    width: 32px;\n",
              "  }\n",
              "\n",
              "  .colab-df-quickchart:hover {\n",
              "    background-color: var(--hover-bg-color);\n",
              "    box-shadow: 0 1px 2px rgba(60, 64, 67, 0.3), 0 1px 3px 1px rgba(60, 64, 67, 0.15);\n",
              "    fill: var(--button-hover-fill-color);\n",
              "  }\n",
              "\n",
              "  .colab-df-quickchart-complete:disabled,\n",
              "  .colab-df-quickchart-complete:disabled:hover {\n",
              "    background-color: var(--disabled-bg-color);\n",
              "    fill: var(--disabled-fill-color);\n",
              "    box-shadow: none;\n",
              "  }\n",
              "\n",
              "  .colab-df-spinner {\n",
              "    border: 2px solid var(--fill-color);\n",
              "    border-color: transparent;\n",
              "    border-bottom-color: var(--fill-color);\n",
              "    animation:\n",
              "      spin 1s steps(1) infinite;\n",
              "  }\n",
              "\n",
              "  @keyframes spin {\n",
              "    0% {\n",
              "      border-color: transparent;\n",
              "      border-bottom-color: var(--fill-color);\n",
              "      border-left-color: var(--fill-color);\n",
              "    }\n",
              "    20% {\n",
              "      border-color: transparent;\n",
              "      border-left-color: var(--fill-color);\n",
              "      border-top-color: var(--fill-color);\n",
              "    }\n",
              "    30% {\n",
              "      border-color: transparent;\n",
              "      border-left-color: var(--fill-color);\n",
              "      border-top-color: var(--fill-color);\n",
              "      border-right-color: var(--fill-color);\n",
              "    }\n",
              "    40% {\n",
              "      border-color: transparent;\n",
              "      border-right-color: var(--fill-color);\n",
              "      border-top-color: var(--fill-color);\n",
              "    }\n",
              "    60% {\n",
              "      border-color: transparent;\n",
              "      border-right-color: var(--fill-color);\n",
              "    }\n",
              "    80% {\n",
              "      border-color: transparent;\n",
              "      border-right-color: var(--fill-color);\n",
              "      border-bottom-color: var(--fill-color);\n",
              "    }\n",
              "    90% {\n",
              "      border-color: transparent;\n",
              "      border-bottom-color: var(--fill-color);\n",
              "    }\n",
              "  }\n",
              "</style>\n",
              "\n",
              "  <script>\n",
              "    async function quickchart(key) {\n",
              "      const quickchartButtonEl =\n",
              "        document.querySelector('#' + key + ' button');\n",
              "      quickchartButtonEl.disabled = true;  // To prevent multiple clicks.\n",
              "      quickchartButtonEl.classList.add('colab-df-spinner');\n",
              "      try {\n",
              "        const charts = await google.colab.kernel.invokeFunction(\n",
              "            'suggestCharts', [key], {});\n",
              "      } catch (error) {\n",
              "        console.error('Error during call to suggestCharts:', error);\n",
              "      }\n",
              "      quickchartButtonEl.classList.remove('colab-df-spinner');\n",
              "      quickchartButtonEl.classList.add('colab-df-quickchart-complete');\n",
              "    }\n",
              "    (() => {\n",
              "      let quickchartButtonEl =\n",
              "        document.querySelector('#df-ff7a3b66-0714-47e5-a07e-09898c8cce38 button');\n",
              "      quickchartButtonEl.style.display =\n",
              "        google.colab.kernel.accessAllowed ? 'block' : 'none';\n",
              "    })();\n",
              "  </script>\n",
              "</div>\n",
              "\n",
              "    </div>\n",
              "  </div>\n"
            ],
            "application/vnd.google.colaboratory.intrinsic+json": {
              "type": "dataframe",
              "variable_name": "data",
              "summary": "{\n  \"name\": \"data\",\n  \"rows\": 777,\n  \"fields\": [\n    {\n      \"column\": \"id\",\n      \"properties\": {\n        \"dtype\": \"number\",\n        \"std\": 224,\n        \"min\": 1,\n        \"max\": 777,\n        \"num_unique_values\": 777,\n        \"samples\": [\n          569,\n          531,\n          611\n        ],\n        \"semantic_type\": \"\",\n        \"description\": \"\"\n      }\n    },\n    {\n      \"column\": \"jenis\",\n      \"properties\": {\n        \"dtype\": \"number\",\n        \"std\": 0,\n        \"min\": 0,\n        \"max\": 1,\n        \"num_unique_values\": 2,\n        \"samples\": [\n          0,\n          1\n        ],\n        \"semantic_type\": \"\",\n        \"description\": \"\"\n      }\n    },\n    {\n      \"column\": \"warna\",\n      \"properties\": {\n        \"dtype\": \"number\",\n        \"std\": 1,\n        \"min\": 0,\n        \"max\": 4,\n        \"num_unique_values\": 5,\n        \"samples\": [\n          2,\n          0\n        ],\n        \"semantic_type\": \"\",\n        \"description\": \"\"\n      }\n    }\n  ]\n}"
            }
          },
          "metadata": {},
          "execution_count": 4
        }
      ],
      "source": [
        "data = pd.read_csv('Penyisihan Hology Data Mining/train.csv')\n",
        "data.head()"
      ]
    },
    {
      "cell_type": "markdown",
      "source": [
        "#FUNGSI"
      ],
      "metadata": {
        "id": "hsnqpTNWK01X"
      }
    },
    {
      "cell_type": "code",
      "execution_count": null,
      "metadata": {
        "id": "6GfLX70663Gn"
      },
      "outputs": [],
      "source": [
        "def show_image(gambar):\n",
        "  plt.imshow(gambar.astype('uint8'))\n",
        "  plt.axis('Off')\n",
        "  plt.show()"
      ]
    },
    {
      "cell_type": "code",
      "execution_count": null,
      "metadata": {
        "id": "Tpj0kZ040_Bl"
      },
      "outputs": [],
      "source": [
        "def load_gambar_jenis(path_gambar, size_x, size_y):\n",
        "    target_size = (size_x, size_y)  # Ukuran target (width, height)\n",
        "\n",
        "    gambars = []\n",
        "    labels = []\n",
        "\n",
        "    file_list = os.listdir(path_gambar)\n",
        "\n",
        "    for filename in file_list:\n",
        "        if filename.endswith(('.png', '.jpg', '.jpeg', '.bmp', '.gif')):\n",
        "            path_gambar1 = os.path.join(path_gambar, filename)\n",
        "            gambar = tf.keras.preprocessing.image.load_img(path_gambar1, target_size=target_size)\n",
        "            gambar_array = tf.keras.preprocessing.image.img_to_array(gambar)\n",
        "            gambars.append(gambar_array)\n",
        "            nilai_label = data['jenis'][data['id'] == int(filename.split('.')[0])]\n",
        "            labels.append(nilai_label)\n",
        "\n",
        "    gambar_array = np.array(gambars)\n",
        "    return gambar_array, labels"
      ]
    },
    {
      "cell_type": "code",
      "source": [
        "def load_gambar_warna(path_gambar, size_x, size_y, train=True):\n",
        "    target_size = (size_x, size_y)  # Ukuran target (width, height)\n",
        "\n",
        "    gambars = []\n",
        "    labels = []\n",
        "\n",
        "    file_list = os.listdir(path_gambar)\n",
        "\n",
        "    for filename in file_list:\n",
        "        if filename.endswith(('.png', '.jpg', '.jpeg', '.bmp', '.gif')):\n",
        "            path_gambar1 = os.path.join(path_gambar, filename)\n",
        "            gambar = tf.keras.preprocessing.image.load_img(path_gambar1, target_size=target_size)\n",
        "            gambar_array = tf.keras.preprocessing.image.img_to_array(gambar)\n",
        "            gambars.append(gambar_array)\n",
        "            nilai_label = data['warna'][data['id'] == int(filename.split('.')[0])]\n",
        "            labels.append(nilai_label)\n",
        "\n",
        "    gambar_array = np.array(gambars)\n",
        "    return gambar_array, labels"
      ],
      "metadata": {
        "id": "vzl9XEMCIIum"
      },
      "execution_count": null,
      "outputs": []
    },
    {
      "cell_type": "code",
      "source": [
        "def load_gambar_test(path_gambar, size_x, size_y):\n",
        "    target_size = (size_x, size_y)  # Ukuran target (width, height)\n",
        "\n",
        "    gambars = []\n",
        "    labels = []\n",
        "\n",
        "    file_list = os.listdir(path_gambar)\n",
        "\n",
        "    for filename in file_list:\n",
        "        if filename.endswith(('.png', '.jpg', '.jpeg', '.bmp', '.gif')):\n",
        "            path_gambar1 = os.path.join(path_gambar, filename)\n",
        "            gambar = tf.keras.preprocessing.image.load_img(path_gambar1, target_size=target_size)\n",
        "            gambar_array = tf.keras.preprocessing.image.img_to_array(gambar)\n",
        "            gambars.append(gambar_array)\n",
        "            labels.append(int(filename.split('.')[0]))\n",
        "\n",
        "    gambar_array = np.array(gambars)\n",
        "    return gambar_array, labels"
      ],
      "metadata": {
        "id": "lYVB2yFUITAZ"
      },
      "execution_count": null,
      "outputs": []
    },
    {
      "cell_type": "markdown",
      "source": [
        "#LOAD DATA"
      ],
      "metadata": {
        "id": "F-8vFiuOK4_j"
      }
    },
    {
      "cell_type": "code",
      "source": [
        "gambar_jenis, label_jenis =load_gambar_jenis(\"Penyisihan Hology Data Mining/train/\", 128, 128)"
      ],
      "metadata": {
        "id": "q9sLUSW2HHLh"
      },
      "execution_count": null,
      "outputs": []
    },
    {
      "cell_type": "code",
      "source": [
        "gambar_warna, label_warna =load_gambar_warna(\"Penyisihan Hology Data Mining/train/\", 64, 64)"
      ],
      "metadata": {
        "id": "9AsbNssrJDNj"
      },
      "execution_count": null,
      "outputs": []
    },
    {
      "cell_type": "code",
      "source": [
        "for i in range(0,4):\n",
        "  show_image(gambar_jenis[i])\n",
        "  print(label_jenis[i])"
      ],
      "metadata": {
        "id": "mSfZZHz-JJvI",
        "colab": {
          "base_uri": "https://localhost:8080/",
          "height": 1000
        },
        "outputId": "2812e3cc-7047-438d-a0e1-f6d1a036d9b7"
      },
      "execution_count": null,
      "outputs": [
        {
          "output_type": "display_data",
          "data": {
            "text/plain": [
              "<Figure size 640x480 with 1 Axes>"
            ],
            "image/png": "[encoded data removed]"
          },
          "metadata": {}
        },
        {
          "output_type": "stream",
          "name": "stdout",
          "text": [
            "638    0\n",
            "Name: jenis, dtype: int64\n"
          ]
        },
        {
          "output_type": "display_data",
          "data": {
            "text/plain": [
              "<Figure size 640x480 with 1 Axes>"
            ],
            "image/png": "[encoded data removed]"
          },
          "metadata": {}
        },
        {
          "output_type": "stream",
          "name": "stdout",
          "text": [
            "37    1\n",
            "Name: jenis, dtype: int64\n"
          ]
        },
        {
          "output_type": "display_data",
          "data": {
            "text/plain": [
              "<Figure size 640x480 with 1 Axes>"
            ],
            "image/png": "[encoded data removed]"
          },
          "metadata": {}
        },
        {
          "output_type": "stream",
          "name": "stdout",
          "text": [
            "697    0\n",
            "Name: jenis, dtype: int64\n"
          ]
        },
        {
          "output_type": "display_data",
          "data": {
            "text/plain": [
              "<Figure size 640x480 with 1 Axes>"
            ],
            "image/png": "[encoded data removed]"
          },
          "metadata": {}
        },
        {
          "output_type": "stream",
          "name": "stdout",
          "text": [
            "396    0\n",
            "Name: jenis, dtype: int64\n"
          ]
        }
      ]
    },
    {
      "cell_type": "markdown",
      "source": [
        "#PREPROCESSING"
      ],
      "metadata": {
        "id": "1IK0lwUkJ3kd"
      }
    },
    {
      "cell_type": "markdown",
      "source": [
        "##Rescale Data"
      ],
      "metadata": {
        "id": "DoqxJGehJ8Am"
      }
    },
    {
      "cell_type": "code",
      "source": [
        "gambar_jenis = gambar_jenis.astype('float32') / 255.0\n",
        "gambar_warna = gambar_warna.astype('float32') / 255.0\n"
      ],
      "metadata": {
        "id": "dRBQo0J71xKm"
      },
      "execution_count": null,
      "outputs": []
    },
    {
      "cell_type": "markdown",
      "source": [
        "##Label Encoder"
      ],
      "metadata": {
        "id": "9Dh3n0uoKAI7"
      }
    },
    {
      "cell_type": "code",
      "execution_count": null,
      "metadata": {
        "colab": {
          "base_uri": "https://localhost:8080/"
        },
        "id": "tnyE6Rno8xvz",
        "outputId": "baf13702-1f13-4e10-a09b-2ed53892d44d"
      },
      "outputs": [
        {
          "output_type": "stream",
          "name": "stdout",
          "text": [
            "[[0. 1.]\n",
            " [1. 0.]\n",
            " [1. 0.]\n",
            " ...\n",
            " [1. 0.]\n",
            " [1. 0.]\n",
            " [1. 0.]]\n",
            "[[0. 0. 0. 1. 0.]\n",
            " [1. 0. 0. 0. 0.]\n",
            " [0. 0. 0. 1. 0.]\n",
            " ...\n",
            " [0. 1. 0. 0. 0.]\n",
            " [0. 0. 0. 1. 0.]\n",
            " [0. 0. 0. 1. 0.]]\n"
          ]
        },
        {
          "output_type": "stream",
          "name": "stderr",
          "text": [
            "/usr/local/lib/python3.10/dist-packages/sklearn/preprocessing/_label.py:114: DataConversionWarning: A column-vector y was passed when a 1d array was expected. Please change the shape of y to (n_samples, ), for example using ravel().\n",
            "  y = column_or_1d(y, warn=True)\n",
            "/usr/local/lib/python3.10/dist-packages/sklearn/preprocessing/_label.py:114: DataConversionWarning: A column-vector y was passed when a 1d array was expected. Please change the shape of y to (n_samples, ), for example using ravel().\n",
            "  y = column_or_1d(y, warn=True)\n"
          ]
        }
      ],
      "source": [
        "from sklearn.preprocessing import LabelEncoder\n",
        "from tensorflow.keras.utils import to_categorical\n",
        "\n",
        "num_classes = 2\n",
        "label_encoder = LabelEncoder()\n",
        "jenis_encoded = label_encoder.fit_transform(label_jenis)\n",
        "jenis_categorical = to_categorical(jenis_encoded, num_classes)\n",
        "print(jenis_categorical)\n",
        "\n",
        "num_classes = 5\n",
        "label_encoder = LabelEncoder()\n",
        "warna_encoded = label_encoder.fit_transform(label_warna)\n",
        "warna_categorical = to_categorical(warna_encoded, num_classes)\n",
        "warna_categorical\n",
        "print(warna_categorical)"
      ]
    },
    {
      "cell_type": "markdown",
      "source": [
        "##Membagi Data Train dan Test"
      ],
      "metadata": {
        "id": "BQh2CK04KIrc"
      }
    },
    {
      "cell_type": "code",
      "execution_count": null,
      "metadata": {
        "colab": {
          "base_uri": "https://localhost:8080/"
        },
        "id": "jCHG_Roh75Th",
        "outputId": "47996cb8-5e95-4880-97d8-82e40f530d44"
      },
      "outputs": [
        {
          "output_type": "stream",
          "name": "stdout",
          "text": [
            "Bentuk X_train: (621, 128, 128, 3)\n",
            "Bentuk y_train: (621, 2)\n",
            "Bentuk X_test: (156, 128, 128, 3)\n",
            "Bentuk y_test: (156, 2)\n"
          ]
        }
      ],
      "source": [
        "from sklearn.model_selection import train_test_split\n",
        "\n",
        "X_train_jenis, X_test_jenis, y_train_jenis, y_test_jenis = train_test_split(gambar_jenis, jenis_categorical, test_size=0.2, random_state=42)\n",
        "\n",
        "print(f'Bentuk X_train: {X_train_jenis.shape}')\n",
        "print(f'Bentuk y_train: {y_train_jenis.shape}')\n",
        "print(f'Bentuk X_test: {X_test_jenis.shape}')\n",
        "print(f'Bentuk y_test: {y_test_jenis.shape}')"
      ]
    },
    {
      "cell_type": "code",
      "source": [
        "from sklearn.model_selection import train_test_split\n",
        "\n",
        "X_train_warna, X_test_warna, y_train_warna, y_test_warna = train_test_split(gambar_warna, warna_categorical, test_size=0.2, random_state=42)\n",
        "\n",
        "print(f'Bentuk X_train: {X_train_warna.shape}')\n",
        "print(f'Bentuk y_train: {y_train_warna.shape}')\n",
        "print(f'Bentuk X_test: {X_test_warna.shape}')\n",
        "print(f'Bentuk y_test: {y_test_warna.shape}')"
      ],
      "metadata": {
        "colab": {
          "base_uri": "https://localhost:8080/"
        },
        "id": "4eR7PhahKw0h",
        "outputId": "5968c61d-40a4-4df2-8057-17fde13a6909"
      },
      "execution_count": null,
      "outputs": [
        {
          "output_type": "stream",
          "name": "stdout",
          "text": [
            "Bentuk X_train: (621, 64, 64, 3)\n",
            "Bentuk y_train: (621, 5)\n",
            "Bentuk X_test: (156, 64, 64, 3)\n",
            "Bentuk y_test: (156, 5)\n"
          ]
        }
      ]
    },
    {
      "cell_type": "markdown",
      "source": [
        "#MODELING"
      ],
      "metadata": {
        "id": "TNtVFRNOEY4D"
      }
    },
    {
      "cell_type": "markdown",
      "source": [
        "##Optimization\n"
      ],
      "metadata": {
        "id": "3o2X8fOdB30b"
      }
    },
    {
      "cell_type": "code",
      "source": [
        "pip install optuna"
      ],
      "metadata": {
        "id": "9LkUQDulB8PQ"
      },
      "execution_count": null,
      "outputs": []
    },
    {
      "cell_type": "code",
      "source": [
        "import optuna\n",
        "from tensorflow import keras\n",
        "from tensorflow.keras import layers\n",
        "from sklearn.ensemble import RandomForestClassifier\n",
        "from sklearn.metrics import accuracy_score\n",
        "from tensorflow.keras.models import Sequential\n",
        "from tensorflow.keras.layers import Conv2D, MaxPooling2D, Flatten, Input"
      ],
      "metadata": {
        "id": "2_mIDzAcCBhI"
      },
      "execution_count": null,
      "outputs": []
    },
    {
      "cell_type": "code",
      "source": [
        "def objective_rf(trial, data):\n",
        "    size_x =64\n",
        "    size_y = size_x\n",
        "    size_z = 3\n",
        "    num_classes = 2\n",
        "\n",
        "\n",
        "    gambar_jenis, label_jenis = load_gambar_jenis(\"Penyisihan Hology Data Mining/train/\", size_x, size_y)\n",
        "\n",
        "    X = gambar_jenis.astype('float32') / 255.0\n",
        "\n",
        "    label_encoder = LabelEncoder()\n",
        "    jenis_encoded = label_encoder.fit_transform(label_jenis)\n",
        "    y = to_categorical(jenis_encoded, num_classes)\n",
        "\n",
        "    X_train, X_test, y_train, y_test = train_test_split(X, y, test_size=0.2, random_state=42)\n",
        "\n",
        "    layers = trial.suggest_int('n_layers', 1, 3)\n",
        "    filter = []\n",
        "    for i in range(0, layers):\n",
        "        filter.append(trial.suggest_int(f'n_filter_{i}', 16, 64))\n",
        "\n",
        "    cnn = Sequential()\n",
        "    cnn.add(Input(shape=(size_x, size_y, size_z)))\n",
        "    for i in range(0, layers):\n",
        "        cnn.add(Conv2D(filter[i], (3, 3), padding='same', activation='relu')),\n",
        "        cnn.add(MaxPooling2D(pool_size=(2, 2))),\n",
        "    cnn.add(Flatten())\n",
        "\n",
        "    X_train_feature = cnn.predict(X_train, verbose=0)\n",
        "    X_test_feature = cnn.predict(X_test, verbose=0)\n",
        "\n",
        "    n_estimators = trial.suggest_int('n_estimators', 100, 200)\n",
        "    criterion = trial.suggest_categorical('criterion', ['gini', 'entropy'])\n",
        "    max_depth = trial.suggest_int('max_depth', 5, 15)\n",
        "    min_samples_split = trial.suggest_int('min_samples_split', 2, 3)\n",
        "    min_samples_leaf = trial.suggest_int('min_samples_leaf', 2, 3)\n",
        "    max_features = 'sqrt'\n",
        "    bootstrap = True\n",
        "    oob_score = False\n",
        "    random_state = 25\n",
        "\n",
        "    model = RandomForestClassifier(\n",
        "        n_estimators=n_estimators,\n",
        "        criterion=criterion,\n",
        "        max_depth=max_depth,\n",
        "        min_samples_split=min_samples_split,\n",
        "        min_samples_leaf=min_samples_leaf,\n",
        "        max_features=max_features,\n",
        "        bootstrap=bootstrap,\n",
        "        oob_score=oob_score,\n",
        "        random_state=random_state\n",
        "    )\n",
        "\n",
        "    model.fit(X_train_feature, y_train)\n",
        "\n",
        "    y_pred = model.predict(X_test_feature)\n",
        "    y_pred = np.argmax(y_pred, axis=1)\n",
        "    y_true = np.argmax(y_test, axis=1)\n",
        "\n",
        "    test_acc = accuracy_score(y_true, y_pred)\n",
        "\n",
        "    return test_acc"
      ],
      "metadata": {
        "id": "EVwUHPrgCZTX"
      },
      "execution_count": null,
      "outputs": []
    },
    {
      "cell_type": "code",
      "source": [
        "def objective_rf_warna(trial, data):\n",
        "    size_x = 128\n",
        "    size_y = size_x\n",
        "    size_z = 3\n",
        "    num_classes = 5\n",
        "\n",
        "\n",
        "    gambar_warna, label_warna = load_gambar_warna(\"Penyisihan Hology Data Mining/train/\", size_x, size_y)\n",
        "\n",
        "    X = gambar_warna.astype('float32') / 255.0\n",
        "\n",
        "    label_encoder = LabelEncoder()\n",
        "    jenis_encoded = label_encoder.fit_transform(label_warna)\n",
        "    y = to_categorical(jenis_encoded, num_classes)\n",
        "\n",
        "    X_train, X_test, y_train, y_test = train_test_split(X, y, test_size=0.2, random_state=42)\n",
        "\n",
        "    layers = trial.suggest_int('n_layers', 1, 3)\n",
        "    filter = []\n",
        "    for i in range(0, layers):\n",
        "        filter.append(trial.suggest_int(f'n_filter_{i}', 16, 64))\n",
        "\n",
        "    cnn = Sequential()\n",
        "    cnn.add(Input(shape=(size_x, size_y, size_z)))\n",
        "    for i in range(0, layers):\n",
        "        cnn.add(Conv2D(filter[i], (3, 3), padding='same', activation='relu')),\n",
        "        cnn.add(MaxPooling2D(pool_size=(2, 2))),\n",
        "    cnn.add(Flatten())\n",
        "\n",
        "    X_train_feature = cnn.predict(X_train, verbose=0)\n",
        "    X_test_feature = cnn.predict(X_test, verbose=0)\n",
        "\n",
        "    n_estimators = trial.suggest_int('n_estimators', 100, 200)\n",
        "    criterion = trial.suggest_categorical('criterion', ['gini', 'entropy'])\n",
        "    max_depth = trial.suggest_int('max_depth', 5, 15)\n",
        "    min_samples_split = trial.suggest_int('min_samples_split', 2, 3)\n",
        "    min_samples_leaf = trial.suggest_int('min_samples_leaf', 2, 3)\n",
        "    max_features = 'sqrt'\n",
        "    bootstrap = True\n",
        "    oob_score = False\n",
        "    random_state = 25\n",
        "\n",
        "    model = RandomForestClassifier(\n",
        "        n_estimators=n_estimators,\n",
        "        criterion=criterion,\n",
        "        max_depth=max_depth,\n",
        "        min_samples_split=min_samples_split,\n",
        "        min_samples_leaf=min_samples_leaf,\n",
        "        max_features=max_features,\n",
        "        bootstrap=bootstrap,\n",
        "        oob_score=oob_score,\n",
        "        random_state=random_state\n",
        "    )\n",
        "\n",
        "    model.fit(X_train_feature, y_train)\n",
        "\n",
        "    y_pred = model.predict(X_test_feature)\n",
        "    y_pred = np.argmax(y_pred, axis=1)\n",
        "    y_true = np.argmax(y_test, axis=1)\n",
        "\n",
        "    test_acc = accuracy_score(y_true, y_pred)\n",
        "\n",
        "    return test_acc"
      ],
      "metadata": {
        "id": "54iuCgFaCdsP"
      },
      "execution_count": null,
      "outputs": []
    },
    {
      "cell_type": "code",
      "source": [
        "study_rf = optuna.create_study(direction='maximize')\n",
        "study_rf.optimize(lambda trial: objective_rf(trial, data), n_trials=100)\n",
        "print(\"Best hyperparameters: \", study_rf.best_params)\n",
        "print(\"Best MSE: \", study_rf.best_value)"
      ],
      "metadata": {
        "id": "-LKx0zsQClbU"
      },
      "execution_count": null,
      "outputs": []
    },
    {
      "cell_type": "code",
      "source": [
        "study_rf = optuna.create_study(direction='maximize')\n",
        "study_rf.optimize(lambda trial: objective_rf_warna(trial, data), n_trials=100)\n",
        "print(\"Best hyperparameters: \", study_rf.best_params)\n",
        "print(\"Best MSE: \", study_rf.best_value)"
      ],
      "metadata": {
        "id": "Wh0i54xACvtz"
      },
      "execution_count": null,
      "outputs": []
    },
    {
      "cell_type": "markdown",
      "source": [
        "##CNN-RF (jenis)\n"
      ],
      "metadata": {
        "id": "E4f1ZwIZ5Ezu"
      }
    },
    {
      "cell_type": "code",
      "source": [
        "model_cnn_jenis = keras.Sequential([\n",
        "    layers.Input(shape=(128, 128, 3)),\n",
        "    layers.Conv2D(28, (3, 3), padding='same', activation='relu'),\n",
        "    layers.MaxPooling2D(pool_size=(2, 2)),\n",
        "    layers.Conv2D(57, (3, 3), padding='same', activation='relu'),\n",
        "    layers.MaxPooling2D(pool_size=(2, 2)),\n",
        "    layers.Conv2D(62, (3, 3), padding='same', activation='relu'),\n",
        "    layers.MaxPooling2D(pool_size=(2, 2)),\n",
        "    layers.Flatten(),\n",
        "])"
      ],
      "metadata": {
        "id": "Z_5Lw71D5OAp"
      },
      "execution_count": null,
      "outputs": []
    },
    {
      "cell_type": "code",
      "source": [
        "model_cnn_jenis.summary()"
      ],
      "metadata": {
        "colab": {
          "base_uri": "https://localhost:8080/",
          "height": 372
        },
        "id": "GAxQhIRp5_f6",
        "outputId": "595b782d-63dd-458c-d795-3f3b8a072d82"
      },
      "execution_count": null,
      "outputs": [
        {
          "output_type": "display_data",
          "data": {
            "text/plain": [
              "\u001b[1mModel: \"sequential_200\"\u001b[0m\n"
            ],
            "text/html": [
              "<pre style=\"white-space:pre;overflow-x:auto;line-height:normal;font-family:Menlo,'DejaVu Sans Mono',consolas,'Courier New',monospace\"><span style=\"font-weight: bold\">Model: \"sequential_200\"</span>\n",
              "</pre>\n"
            ]
          },
          "metadata": {}
        },
        {
          "output_type": "display_data",
          "data": {
            "text/plain": [
              "┏━━━━━━━━━━━━━━━━━━━━━━━━━━━━━━━━━━━━━━┳━━━━━━━━━━━━━━━━━━━━━━━━━━━━━┳━━━━━━━━━━━━━━━━━┓\n",
              "┃\u001b[1m \u001b[0m\u001b[1mLayer (type)                        \u001b[0m\u001b[1m \u001b[0m┃\u001b[1m \u001b[0m\u001b[1mOutput Shape               \u001b[0m\u001b[1m \u001b[0m┃\u001b[1m \u001b[0m\u001b[1m        Param #\u001b[0m\u001b[1m \u001b[0m┃\n",
              "┡━━━━━━━━━━━━━━━━━━━━━━━━━━━━━━━━━━━━━━╇━━━━━━━━━━━━━━━━━━━━━━━━━━━━━╇━━━━━━━━━━━━━━━━━┩\n",
              "│ conv2d_475 (\u001b[38;5;33mConv2D\u001b[0m)                  │ (\u001b[38;5;45mNone\u001b[0m, \u001b[38;5;34m128\u001b[0m, \u001b[38;5;34m128\u001b[0m, \u001b[38;5;34m28\u001b[0m)        │             \u001b[38;5;34m784\u001b[0m │\n",
              "├──────────────────────────────────────┼─────────────────────────────┼─────────────────┤\n",
              "│ max_pooling2d_475 (\u001b[38;5;33mMaxPooling2D\u001b[0m)     │ (\u001b[38;5;45mNone\u001b[0m, \u001b[38;5;34m64\u001b[0m, \u001b[38;5;34m64\u001b[0m, \u001b[38;5;34m28\u001b[0m)          │               \u001b[38;5;34m0\u001b[0m │\n",
              "├──────────────────────────────────────┼─────────────────────────────┼─────────────────┤\n",
              "│ conv2d_476 (\u001b[38;5;33mConv2D\u001b[0m)                  │ (\u001b[38;5;45mNone\u001b[0m, \u001b[38;5;34m64\u001b[0m, \u001b[38;5;34m64\u001b[0m, \u001b[38;5;34m57\u001b[0m)          │          \u001b[38;5;34m14,421\u001b[0m │\n",
              "├──────────────────────────────────────┼─────────────────────────────┼─────────────────┤\n",
              "│ max_pooling2d_476 (\u001b[38;5;33mMaxPooling2D\u001b[0m)     │ (\u001b[38;5;45mNone\u001b[0m, \u001b[38;5;34m32\u001b[0m, \u001b[38;5;34m32\u001b[0m, \u001b[38;5;34m57\u001b[0m)          │               \u001b[38;5;34m0\u001b[0m │\n",
              "├──────────────────────────────────────┼─────────────────────────────┼─────────────────┤\n",
              "│ conv2d_477 (\u001b[38;5;33mConv2D\u001b[0m)                  │ (\u001b[38;5;45mNone\u001b[0m, \u001b[38;5;34m32\u001b[0m, \u001b[38;5;34m32\u001b[0m, \u001b[38;5;34m62\u001b[0m)          │          \u001b[38;5;34m31,868\u001b[0m │\n",
              "├──────────────────────────────────────┼─────────────────────────────┼─────────────────┤\n",
              "│ max_pooling2d_477 (\u001b[38;5;33mMaxPooling2D\u001b[0m)     │ (\u001b[38;5;45mNone\u001b[0m, \u001b[38;5;34m16\u001b[0m, \u001b[38;5;34m16\u001b[0m, \u001b[38;5;34m62\u001b[0m)          │               \u001b[38;5;34m0\u001b[0m │\n",
              "├──────────────────────────────────────┼─────────────────────────────┼─────────────────┤\n",
              "│ flatten_200 (\u001b[38;5;33mFlatten\u001b[0m)                │ (\u001b[38;5;45mNone\u001b[0m, \u001b[38;5;34m15872\u001b[0m)               │               \u001b[38;5;34m0\u001b[0m │\n",
              "└──────────────────────────────────────┴─────────────────────────────┴─────────────────┘\n"
            ],
            "text/html": [
              "<pre style=\"white-space:pre;overflow-x:auto;line-height:normal;font-family:Menlo,'DejaVu Sans Mono',consolas,'Courier New',monospace\">┏━━━━━━━━━━━━━━━━━━━━━━━━━━━━━━━━━━━━━━┳━━━━━━━━━━━━━━━━━━━━━━━━━━━━━┳━━━━━━━━━━━━━━━━━┓\n",
              "┃<span style=\"font-weight: bold\"> Layer (type)                         </span>┃<span style=\"font-weight: bold\"> Output Shape                </span>┃<span style=\"font-weight: bold\">         Param # </span>┃\n",
              "┡━━━━━━━━━━━━━━━━━━━━━━━━━━━━━━━━━━━━━━╇━━━━━━━━━━━━━━━━━━━━━━━━━━━━━╇━━━━━━━━━━━━━━━━━┩\n",
              "│ conv2d_475 (<span style=\"color: #0087ff; text-decoration-color: #0087ff\">Conv2D</span>)                  │ (<span style=\"color: #00d7ff; text-decoration-color: #00d7ff\">None</span>, <span style=\"color: #00af00; text-decoration-color: #00af00\">128</span>, <span style=\"color: #00af00; text-decoration-color: #00af00\">128</span>, <span style=\"color: #00af00; text-decoration-color: #00af00\">28</span>)        │             <span style=\"color: #00af00; text-decoration-color: #00af00\">784</span> │\n",
              "├──────────────────────────────────────┼─────────────────────────────┼─────────────────┤\n",
              "│ max_pooling2d_475 (<span style=\"color: #0087ff; text-decoration-color: #0087ff\">MaxPooling2D</span>)     │ (<span style=\"color: #00d7ff; text-decoration-color: #00d7ff\">None</span>, <span style=\"color: #00af00; text-decoration-color: #00af00\">64</span>, <span style=\"color: #00af00; text-decoration-color: #00af00\">64</span>, <span style=\"color: #00af00; text-decoration-color: #00af00\">28</span>)          │               <span style=\"color: #00af00; text-decoration-color: #00af00\">0</span> │\n",
              "├──────────────────────────────────────┼─────────────────────────────┼─────────────────┤\n",
              "│ conv2d_476 (<span style=\"color: #0087ff; text-decoration-color: #0087ff\">Conv2D</span>)                  │ (<span style=\"color: #00d7ff; text-decoration-color: #00d7ff\">None</span>, <span style=\"color: #00af00; text-decoration-color: #00af00\">64</span>, <span style=\"color: #00af00; text-decoration-color: #00af00\">64</span>, <span style=\"color: #00af00; text-decoration-color: #00af00\">57</span>)          │          <span style=\"color: #00af00; text-decoration-color: #00af00\">14,421</span> │\n",
              "├──────────────────────────────────────┼─────────────────────────────┼─────────────────┤\n",
              "│ max_pooling2d_476 (<span style=\"color: #0087ff; text-decoration-color: #0087ff\">MaxPooling2D</span>)     │ (<span style=\"color: #00d7ff; text-decoration-color: #00d7ff\">None</span>, <span style=\"color: #00af00; text-decoration-color: #00af00\">32</span>, <span style=\"color: #00af00; text-decoration-color: #00af00\">32</span>, <span style=\"color: #00af00; text-decoration-color: #00af00\">57</span>)          │               <span style=\"color: #00af00; text-decoration-color: #00af00\">0</span> │\n",
              "├──────────────────────────────────────┼─────────────────────────────┼─────────────────┤\n",
              "│ conv2d_477 (<span style=\"color: #0087ff; text-decoration-color: #0087ff\">Conv2D</span>)                  │ (<span style=\"color: #00d7ff; text-decoration-color: #00d7ff\">None</span>, <span style=\"color: #00af00; text-decoration-color: #00af00\">32</span>, <span style=\"color: #00af00; text-decoration-color: #00af00\">32</span>, <span style=\"color: #00af00; text-decoration-color: #00af00\">62</span>)          │          <span style=\"color: #00af00; text-decoration-color: #00af00\">31,868</span> │\n",
              "├──────────────────────────────────────┼─────────────────────────────┼─────────────────┤\n",
              "│ max_pooling2d_477 (<span style=\"color: #0087ff; text-decoration-color: #0087ff\">MaxPooling2D</span>)     │ (<span style=\"color: #00d7ff; text-decoration-color: #00d7ff\">None</span>, <span style=\"color: #00af00; text-decoration-color: #00af00\">16</span>, <span style=\"color: #00af00; text-decoration-color: #00af00\">16</span>, <span style=\"color: #00af00; text-decoration-color: #00af00\">62</span>)          │               <span style=\"color: #00af00; text-decoration-color: #00af00\">0</span> │\n",
              "├──────────────────────────────────────┼─────────────────────────────┼─────────────────┤\n",
              "│ flatten_200 (<span style=\"color: #0087ff; text-decoration-color: #0087ff\">Flatten</span>)                │ (<span style=\"color: #00d7ff; text-decoration-color: #00d7ff\">None</span>, <span style=\"color: #00af00; text-decoration-color: #00af00\">15872</span>)               │               <span style=\"color: #00af00; text-decoration-color: #00af00\">0</span> │\n",
              "└──────────────────────────────────────┴─────────────────────────────┴─────────────────┘\n",
              "</pre>\n"
            ]
          },
          "metadata": {}
        },
        {
          "output_type": "display_data",
          "data": {
            "text/plain": [
              "\u001b[1m Total params: \u001b[0m\u001b[38;5;34m47,073\u001b[0m (183.88 KB)\n"
            ],
            "text/html": [
              "<pre style=\"white-space:pre;overflow-x:auto;line-height:normal;font-family:Menlo,'DejaVu Sans Mono',consolas,'Courier New',monospace\"><span style=\"font-weight: bold\"> Total params: </span><span style=\"color: #00af00; text-decoration-color: #00af00\">47,073</span> (183.88 KB)\n",
              "</pre>\n"
            ]
          },
          "metadata": {}
        },
        {
          "output_type": "display_data",
          "data": {
            "text/plain": [
              "\u001b[1m Trainable params: \u001b[0m\u001b[38;5;34m47,073\u001b[0m (183.88 KB)\n"
            ],
            "text/html": [
              "<pre style=\"white-space:pre;overflow-x:auto;line-height:normal;font-family:Menlo,'DejaVu Sans Mono',consolas,'Courier New',monospace\"><span style=\"font-weight: bold\"> Trainable params: </span><span style=\"color: #00af00; text-decoration-color: #00af00\">47,073</span> (183.88 KB)\n",
              "</pre>\n"
            ]
          },
          "metadata": {}
        },
        {
          "output_type": "display_data",
          "data": {
            "text/plain": [
              "\u001b[1m Non-trainable params: \u001b[0m\u001b[38;5;34m0\u001b[0m (0.00 B)\n"
            ],
            "text/html": [
              "<pre style=\"white-space:pre;overflow-x:auto;line-height:normal;font-family:Menlo,'DejaVu Sans Mono',consolas,'Courier New',monospace\"><span style=\"font-weight: bold\"> Non-trainable params: </span><span style=\"color: #00af00; text-decoration-color: #00af00\">0</span> (0.00 B)\n",
              "</pre>\n"
            ]
          },
          "metadata": {}
        }
      ]
    },
    {
      "cell_type": "code",
      "source": [
        "X_features_train_jenis = model_cnn_jenis.predict(X_train_jenis)\n",
        "X_features_test_jenis = model_cnn_jenis.predict(X_test_jenis)"
      ],
      "metadata": {
        "colab": {
          "base_uri": "https://localhost:8080/"
        },
        "id": "4trAf5YM5QPv",
        "outputId": "16a47e4e-edad-4b32-8f6c-d69792870ba1"
      },
      "execution_count": null,
      "outputs": [
        {
          "output_type": "stream",
          "name": "stdout",
          "text": [
            "\u001b[1m20/20\u001b[0m \u001b[32m━━━━━━━━━━━━━━━━━━━━\u001b[0m\u001b[37m\u001b[0m \u001b[1m0s\u001b[0m 13ms/step\n",
            "\u001b[1m5/5\u001b[0m \u001b[32m━━━━━━━━━━━━━━━━━━━━\u001b[0m\u001b[37m\u001b[0m \u001b[1m0s\u001b[0m 33ms/step\n"
          ]
        }
      ]
    },
    {
      "cell_type": "code",
      "source": [
        "from sklearn.ensemble import RandomForestClassifier\n",
        "from sklearn.metrics import accuracy_score\n",
        "\n",
        "rf_model_jenis = RandomForestClassifier(n_estimators=165,\n",
        "    criterion='gini',\n",
        "    max_depth=13,\n",
        "    min_samples_split=2,\n",
        "    min_samples_leaf=2,\n",
        "    max_features='sqrt',\n",
        "    bootstrap=True,\n",
        "    oob_score=False,\n",
        "    random_state=25)\n",
        "rf_model_jenis.fit(X_features_train_jenis, y_train_jenis)\n",
        "\n",
        "y_pred_jenis = rf_model_jenis.predict(X_features_test_jenis)\n",
        "accuracy_jenis = accuracy_score(y_test_jenis, y_pred_jenis)\n",
        "print(f'Accuracy: {accuracy_jenis}')"
      ],
      "metadata": {
        "colab": {
          "base_uri": "https://localhost:8080/"
        },
        "id": "phmc-VxR5YNY",
        "outputId": "42864d5a-e0c0-4f7a-d78c-b6429d9f1008"
      },
      "execution_count": null,
      "outputs": [
        {
          "output_type": "stream",
          "name": "stdout",
          "text": [
            "Accuracy: 0.8589743589743589\n"
          ]
        }
      ]
    },
    {
      "cell_type": "markdown",
      "source": [
        "##CNN-RF (warna)"
      ],
      "metadata": {
        "id": "6KWtPQqaLZSC"
      }
    },
    {
      "cell_type": "code",
      "source": [
        "model_cnn_warna = keras.Sequential([\n",
        "    layers.Input(shape=(64, 64, 3)),\n",
        "    layers.Conv2D(54, (3, 3), padding='same', activation='relu'),\n",
        "    layers.MaxPooling2D(pool_size=(2, 2)),\n",
        "    layers.Flatten(),\n",
        "])"
      ],
      "metadata": {
        "id": "IPcgjJmrLol5"
      },
      "execution_count": null,
      "outputs": []
    },
    {
      "cell_type": "code",
      "source": [
        "model_cnn_warna.summary()"
      ],
      "metadata": {
        "colab": {
          "base_uri": "https://localhost:8080/",
          "height": 237
        },
        "id": "n8Wu7laPNZjh",
        "outputId": "44b06b68-53d6-4430-8962-5a713baae616"
      },
      "execution_count": null,
      "outputs": [
        {
          "output_type": "display_data",
          "data": {
            "text/plain": [
              "\u001b[1mModel: \"sequential_201\"\u001b[0m\n"
            ],
            "text/html": [
              "<pre style=\"white-space:pre;overflow-x:auto;line-height:normal;font-family:Menlo,'DejaVu Sans Mono',consolas,'Courier New',monospace\"><span style=\"font-weight: bold\">Model: \"sequential_201\"</span>\n",
              "</pre>\n"
            ]
          },
          "metadata": {}
        },
        {
          "output_type": "display_data",
          "data": {
            "text/plain": [
              "┏━━━━━━━━━━━━━━━━━━━━━━━━━━━━━━━━━━━━━━┳━━━━━━━━━━━━━━━━━━━━━━━━━━━━━┳━━━━━━━━━━━━━━━━━┓\n",
              "┃\u001b[1m \u001b[0m\u001b[1mLayer (type)                        \u001b[0m\u001b[1m \u001b[0m┃\u001b[1m \u001b[0m\u001b[1mOutput Shape               \u001b[0m\u001b[1m \u001b[0m┃\u001b[1m \u001b[0m\u001b[1m        Param #\u001b[0m\u001b[1m \u001b[0m┃\n",
              "┡━━━━━━━━━━━━━━━━━━━━━━━━━━━━━━━━━━━━━━╇━━━━━━━━━━━━━━━━━━━━━━━━━━━━━╇━━━━━━━━━━━━━━━━━┩\n",
              "│ conv2d_478 (\u001b[38;5;33mConv2D\u001b[0m)                  │ (\u001b[38;5;45mNone\u001b[0m, \u001b[38;5;34m64\u001b[0m, \u001b[38;5;34m64\u001b[0m, \u001b[38;5;34m54\u001b[0m)          │           \u001b[38;5;34m1,512\u001b[0m │\n",
              "├──────────────────────────────────────┼─────────────────────────────┼─────────────────┤\n",
              "│ max_pooling2d_478 (\u001b[38;5;33mMaxPooling2D\u001b[0m)     │ (\u001b[38;5;45mNone\u001b[0m, \u001b[38;5;34m32\u001b[0m, \u001b[38;5;34m32\u001b[0m, \u001b[38;5;34m54\u001b[0m)          │               \u001b[38;5;34m0\u001b[0m │\n",
              "├──────────────────────────────────────┼─────────────────────────────┼─────────────────┤\n",
              "│ flatten_201 (\u001b[38;5;33mFlatten\u001b[0m)                │ (\u001b[38;5;45mNone\u001b[0m, \u001b[38;5;34m55296\u001b[0m)               │               \u001b[38;5;34m0\u001b[0m │\n",
              "└──────────────────────────────────────┴─────────────────────────────┴─────────────────┘\n"
            ],
            "text/html": [
              "<pre style=\"white-space:pre;overflow-x:auto;line-height:normal;font-family:Menlo,'DejaVu Sans Mono',consolas,'Courier New',monospace\">┏━━━━━━━━━━━━━━━━━━━━━━━━━━━━━━━━━━━━━━┳━━━━━━━━━━━━━━━━━━━━━━━━━━━━━┳━━━━━━━━━━━━━━━━━┓\n",
              "┃<span style=\"font-weight: bold\"> Layer (type)                         </span>┃<span style=\"font-weight: bold\"> Output Shape                </span>┃<span style=\"font-weight: bold\">         Param # </span>┃\n",
              "┡━━━━━━━━━━━━━━━━━━━━━━━━━━━━━━━━━━━━━━╇━━━━━━━━━━━━━━━━━━━━━━━━━━━━━╇━━━━━━━━━━━━━━━━━┩\n",
              "│ conv2d_478 (<span style=\"color: #0087ff; text-decoration-color: #0087ff\">Conv2D</span>)                  │ (<span style=\"color: #00d7ff; text-decoration-color: #00d7ff\">None</span>, <span style=\"color: #00af00; text-decoration-color: #00af00\">64</span>, <span style=\"color: #00af00; text-decoration-color: #00af00\">64</span>, <span style=\"color: #00af00; text-decoration-color: #00af00\">54</span>)          │           <span style=\"color: #00af00; text-decoration-color: #00af00\">1,512</span> │\n",
              "├──────────────────────────────────────┼─────────────────────────────┼─────────────────┤\n",
              "│ max_pooling2d_478 (<span style=\"color: #0087ff; text-decoration-color: #0087ff\">MaxPooling2D</span>)     │ (<span style=\"color: #00d7ff; text-decoration-color: #00d7ff\">None</span>, <span style=\"color: #00af00; text-decoration-color: #00af00\">32</span>, <span style=\"color: #00af00; text-decoration-color: #00af00\">32</span>, <span style=\"color: #00af00; text-decoration-color: #00af00\">54</span>)          │               <span style=\"color: #00af00; text-decoration-color: #00af00\">0</span> │\n",
              "├──────────────────────────────────────┼─────────────────────────────┼─────────────────┤\n",
              "│ flatten_201 (<span style=\"color: #0087ff; text-decoration-color: #0087ff\">Flatten</span>)                │ (<span style=\"color: #00d7ff; text-decoration-color: #00d7ff\">None</span>, <span style=\"color: #00af00; text-decoration-color: #00af00\">55296</span>)               │               <span style=\"color: #00af00; text-decoration-color: #00af00\">0</span> │\n",
              "└──────────────────────────────────────┴─────────────────────────────┴─────────────────┘\n",
              "</pre>\n"
            ]
          },
          "metadata": {}
        },
        {
          "output_type": "display_data",
          "data": {
            "text/plain": [
              "\u001b[1m Total params: \u001b[0m\u001b[38;5;34m1,512\u001b[0m (5.91 KB)\n"
            ],
            "text/html": [
              "<pre style=\"white-space:pre;overflow-x:auto;line-height:normal;font-family:Menlo,'DejaVu Sans Mono',consolas,'Courier New',monospace\"><span style=\"font-weight: bold\"> Total params: </span><span style=\"color: #00af00; text-decoration-color: #00af00\">1,512</span> (5.91 KB)\n",
              "</pre>\n"
            ]
          },
          "metadata": {}
        },
        {
          "output_type": "display_data",
          "data": {
            "text/plain": [
              "\u001b[1m Trainable params: \u001b[0m\u001b[38;5;34m1,512\u001b[0m (5.91 KB)\n"
            ],
            "text/html": [
              "<pre style=\"white-space:pre;overflow-x:auto;line-height:normal;font-family:Menlo,'DejaVu Sans Mono',consolas,'Courier New',monospace\"><span style=\"font-weight: bold\"> Trainable params: </span><span style=\"color: #00af00; text-decoration-color: #00af00\">1,512</span> (5.91 KB)\n",
              "</pre>\n"
            ]
          },
          "metadata": {}
        },
        {
          "output_type": "display_data",
          "data": {
            "text/plain": [
              "\u001b[1m Non-trainable params: \u001b[0m\u001b[38;5;34m0\u001b[0m (0.00 B)\n"
            ],
            "text/html": [
              "<pre style=\"white-space:pre;overflow-x:auto;line-height:normal;font-family:Menlo,'DejaVu Sans Mono',consolas,'Courier New',monospace\"><span style=\"font-weight: bold\"> Non-trainable params: </span><span style=\"color: #00af00; text-decoration-color: #00af00\">0</span> (0.00 B)\n",
              "</pre>\n"
            ]
          },
          "metadata": {}
        }
      ]
    },
    {
      "cell_type": "code",
      "source": [
        "X_features_train_warna = model_cnn_warna.predict(X_train_warna)\n",
        "X_features_test_warna = model_cnn_warna.predict(X_test_warna)"
      ],
      "metadata": {
        "colab": {
          "base_uri": "https://localhost:8080/"
        },
        "id": "vu4_HxEZNgAA",
        "outputId": "a16501d6-7b9f-4dce-edf1-d8527022c31a"
      },
      "execution_count": null,
      "outputs": [
        {
          "output_type": "stream",
          "name": "stdout",
          "text": [
            "\u001b[1m20/20\u001b[0m \u001b[32m━━━━━━━━━━━━━━━━━━━━\u001b[0m\u001b[37m\u001b[0m \u001b[1m0s\u001b[0m 5ms/step\n",
            "\u001b[1m5/5\u001b[0m \u001b[32m━━━━━━━━━━━━━━━━━━━━\u001b[0m\u001b[37m\u001b[0m \u001b[1m0s\u001b[0m 13ms/step\n"
          ]
        }
      ]
    },
    {
      "cell_type": "code",
      "source": [
        "rf_model_warna = RandomForestClassifier(n_estimators=182,\n",
        "                                        criterion='entropy',\n",
        "                                        max_depth=11,\n",
        "                                        min_samples_split=2,\n",
        "                                        min_samples_leaf=2,\n",
        "                                        max_features='sqrt',\n",
        "                                        bootstrap=True,\n",
        "                                        oob_score=False,\n",
        "                                        random_state=25)\n",
        "rf_model_warna.fit(X_features_train_warna, y_train_warna)\n",
        "\n",
        "y_pred_proba = rf_model_warna.predict_proba(X_features_test_warna)\n",
        "n  = np.array(y_pred_proba)\n",
        "new = []\n",
        "for j in range(156):\n",
        "  for i in range(5):\n",
        "    new.append(n[i][:,1][j])\n",
        "new1 = np.array(new)\n",
        "new2 = new1.reshape(-1,5)\n",
        "argmax = np.argmax(new2, axis=1)\n",
        "\n",
        "num_classes = 5\n",
        "label_encoder = LabelEncoder()\n",
        "warna_encoded = label_encoder.fit_transform(argmax)\n",
        "y_pred_warna_fix = to_categorical(warna_encoded, num_classes)\n",
        "\n",
        "accuracy_warna = accuracy_score(y_test_warna, y_pred_warna_fix)\n",
        "print(f'Accuracy: {accuracy_warna}')"
      ],
      "metadata": {
        "colab": {
          "base_uri": "https://localhost:8080/"
        },
        "id": "bUWNbwp-Nsqu",
        "outputId": "5571fd92-cf61-4e70-cfd4-0fe070359c8b"
      },
      "execution_count": null,
      "outputs": [
        {
          "output_type": "stream",
          "name": "stdout",
          "text": [
            "Accuracy: 0.9166666666666666\n"
          ]
        }
      ]
    },
    {
      "cell_type": "markdown",
      "source": [
        "#DEPLOYMENT"
      ],
      "metadata": {
        "id": "gccoUMncpbCl"
      }
    },
    {
      "cell_type": "code",
      "source": [
        "gambar_jenis_1, label_jenis_1 =load_gambar_test(\"Penyisihan Hology Data Mining/test/\", 128, 128)\n",
        "\n",
        "gambar_jenis_1 = gambar_jenis_1.astype('float32') / 255.0\n",
        "\n",
        "features_jenis_1 = model_cnn_jenis.predict(gambar_jenis_1)\n",
        "prediksi_jenis_1 = rf_model_jenis.predict(features_jenis_1)\n",
        "prediksi_jenis_1 = np.argmax(prediksi_jenis_1, axis=1)"
      ],
      "metadata": {
        "id": "NnALX2cwpaVh",
        "colab": {
          "base_uri": "https://localhost:8080/"
        },
        "outputId": "f3cfda1f-8341-4129-b743-1fa273a2c6b2"
      },
      "execution_count": null,
      "outputs": [
        {
          "output_type": "stream",
          "name": "stdout",
          "text": [
            "\u001b[1m11/11\u001b[0m \u001b[32m━━━━━━━━━━━━━━━━━━━━\u001b[0m\u001b[37m\u001b[0m \u001b[1m0s\u001b[0m 42ms/step\n"
          ]
        }
      ]
    },
    {
      "cell_type": "code",
      "source": [
        "gambar_warna_1, label_warna_1 =load_gambar_test(\"Penyisihan Hology Data Mining/test/\", 64, 64)\n",
        "\n",
        "gambar_warna_1 = gambar_warna_1.astype('float32') / 255.0\n",
        "\n",
        "features_warna_1 = model_cnn_warna.predict(gambar_warna_1)\n",
        "prediksi_warna_1 = rf_model_warna.predict_proba(features_warna_1)\n",
        "n  = np.array(prediksi_warna_1)\n",
        "new = []\n",
        "for j in range(334):\n",
        "  for i in range(5):\n",
        "    new.append(n[i][:,1][j])\n",
        "new1 = np.array(new)\n",
        "new2 = new1.reshape(-1,5)\n",
        "argmax = np.argmax(new2, axis=1)\n",
        "\n",
        "num_classes = 5\n",
        "label_encoder = LabelEncoder()\n",
        "warna_encoded = label_encoder.fit_transform(argmax)\n",
        "prediksi_warna_1 = to_categorical(warna_encoded, num_classes)\n",
        "prediksi_warna_1 = np.argmax(prediksi_warna_1, axis=1)"
      ],
      "metadata": {
        "colab": {
          "base_uri": "https://localhost:8080/"
        },
        "id": "C2v9djXGKL6Z",
        "outputId": "70ecc1dc-c917-4c61-acbf-eeb994ffc715"
      },
      "execution_count": null,
      "outputs": [
        {
          "output_type": "stream",
          "name": "stdout",
          "text": [
            "\u001b[1m11/11\u001b[0m \u001b[32m━━━━━━━━━━━━━━━━━━━━\u001b[0m\u001b[37m\u001b[0m \u001b[1m0s\u001b[0m 15ms/step\n"
          ]
        }
      ]
    },
    {
      "cell_type": "code",
      "source": [
        "hasil = {\n",
        "    'id_jenis': label_jenis_1,\n",
        "    'jenis': prediksi_jenis_1,\n",
        "    'id_warna': label_warna_1,\n",
        "    'warna': prediksi_warna_1\n",
        "}\n",
        "\n",
        "hasil = pd.DataFrame(hasil)"
      ],
      "metadata": {
        "id": "wtC_u-ppKOoZ"
      },
      "execution_count": null,
      "outputs": []
    },
    {
      "cell_type": "code",
      "source": [
        "if (hasil['id_jenis'] == hasil['id_warna']).all():\n",
        "    hasil = hasil.drop(columns=['id_warna'])\n",
        "    hasil = hasil.rename(columns={'id_jenis': 'id'})\n",
        "else:\n",
        "    print(\"The columns have different values and cannot be combined by dropping one.\")"
      ],
      "metadata": {
        "id": "Y362r6eFjl-t"
      },
      "execution_count": null,
      "outputs": []
    },
    {
      "cell_type": "code",
      "source": [
        "hasil_sorted = hasil.sort_values(by='id')\n",
        "print(hasil_sorted)"
      ],
      "metadata": {
        "colab": {
          "base_uri": "https://localhost:8080/"
        },
        "id": "wNdbCKHD_kNe",
        "outputId": "a44de40e-e130-496a-e992-c018992f99fe"
      },
      "execution_count": null,
      "outputs": [
        {
          "output_type": "stream",
          "name": "stdout",
          "text": [
            "       id  jenis  warna\n",
            "170   778      0      3\n",
            "222   779      1      3\n",
            "230   780      1      2\n",
            "67    781      0      1\n",
            "99    782      1      3\n",
            "..    ...    ...    ...\n",
            "284  1107      0      0\n",
            "190  1108      1      4\n",
            "45   1109      0      2\n",
            "109  1110      0      3\n",
            "47   1111      1      0\n",
            "\n",
            "[334 rows x 3 columns]\n"
          ]
        }
      ]
    },
    {
      "cell_type": "code",
      "source": [
        "hasil_sorted.info()"
      ],
      "metadata": {
        "colab": {
          "base_uri": "https://localhost:8080/"
        },
        "id": "A0JAfTFAiElB",
        "outputId": "05bfb350-59a6-4c5a-bed6-bab8e21fb84d"
      },
      "execution_count": null,
      "outputs": [
        {
          "output_type": "stream",
          "name": "stdout",
          "text": [
            "<class 'pandas.core.frame.DataFrame'>\n",
            "Index: 334 entries, 170 to 47\n",
            "Data columns (total 3 columns):\n",
            " #   Column  Non-Null Count  Dtype\n",
            "---  ------  --------------  -----\n",
            " 0   id      334 non-null    int64\n",
            " 1   jenis   334 non-null    int64\n",
            " 2   warna   334 non-null    int64\n",
            "dtypes: int64(3)\n",
            "memory usage: 10.4 KB\n"
          ]
        }
      ]
    },
    {
      "cell_type": "code",
      "source": [
        "hasil_sorted.to_csv('hasil_sample_submission_5.csv', index=False)"
      ],
      "metadata": {
        "id": "2N7JOAJ3ku7V"
      },
      "execution_count": null,
      "outputs": []
    }
  ],
  "metadata": {
    "colab": {
      "provenance": [],
      "gpuType": "T4",
      "toc_visible": true,
      "include_colab_link": true
    },
    "kernelspec": {
      "display_name": "Python 3",
      "name": "python3"
    },
    "language_info": {
      "codemirror_mode": {
        "name": "ipython",
        "version": 3
      },
      "file_extension": ".py",
      "mimetype": "text/x-python",
      "name": "python",
      "nbconvert_exporter": "python",
      "pygments_lexer": "ipython3",
      "version": "3.10.9"
    },
    "accelerator": "GPU"
  },
  "nbformat": 4,
  "nbformat_minor": 0
}